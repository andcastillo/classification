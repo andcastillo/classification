{
 "cells": [
  {
   "cell_type": "markdown",
   "metadata": {},
   "source": [
    "# Clasificación\n",
    "\n",
    "**Autor: Andrés M. Castillo**\n",
    "\n",
    "Objetivo: \n",
    "\n",
    "* Implementar el algoritmo de árbol de decisión ID3\n",
    "* Preparar los datos, entrenar y evaluar el desempeño de un clasificador\n",
    "\n",
    "## Árboles de decisión\n",
    "\n",
    "Modelo de clasificación también conocido como ID3 que significa \"inducción mediante árboles de decisión\" que fue desarrollado por J. Ross Quinlan, capaz de tomar decisiones con gran precisión. Sistema de aprendizaje supervisado que aplica la estrategia \"divide y vencerás\" para hacer la clasificación, implementando métodos y técnicas para la realización de procesos inteligentes, representando así el conocimiento y el aprendizaje, con el propósito de automatizar tareas.\n",
    "\n",
    "En este laboratorio, usted va a implementar el algoritmo llamado ID3, y lo evaluará usando el conjunto de datos de clasificación llamado Titanic, disponible en Kaggle [Titanic Kaggle](https://www.kaggle.com/c/titanic/)\n",
    "\n",
    "# Paso 1. Importar las librerías\n"
   ]
  },
  {
   "cell_type": "code",
   "execution_count": 1,
   "metadata": {},
   "outputs": [],
   "source": [
    "import numpy as np\n",
    "import pandas as pd\n",
    "import matplotlib.pyplot as plt\n",
    "import warnings\n",
    "import sklearn\n",
    "from sklearn import tree"
   ]
  },
  {
   "cell_type": "markdown",
   "metadata": {},
   "source": [
    "# Paso 2. Importar el conjunto de datos"
   ]
  },
  {
   "cell_type": "code",
   "execution_count": 49,
   "metadata": {},
   "outputs": [
    {
     "data": {
      "text/html": [
       "<div>\n",
       "<style scoped>\n",
       "    .dataframe tbody tr th:only-of-type {\n",
       "        vertical-align: middle;\n",
       "    }\n",
       "\n",
       "    .dataframe tbody tr th {\n",
       "        vertical-align: top;\n",
       "    }\n",
       "\n",
       "    .dataframe thead th {\n",
       "        text-align: right;\n",
       "    }\n",
       "</style>\n",
       "<table border=\"1\" class=\"dataframe\">\n",
       "  <thead>\n",
       "    <tr style=\"text-align: right;\">\n",
       "      <th></th>\n",
       "      <th>PassengerId</th>\n",
       "      <th>Survived</th>\n",
       "      <th>Pclass</th>\n",
       "      <th>Name</th>\n",
       "      <th>Sex</th>\n",
       "      <th>Age</th>\n",
       "      <th>SibSp</th>\n",
       "      <th>Parch</th>\n",
       "      <th>Ticket</th>\n",
       "      <th>Fare</th>\n",
       "      <th>Cabin</th>\n",
       "      <th>Embarked</th>\n",
       "    </tr>\n",
       "  </thead>\n",
       "  <tbody>\n",
       "    <tr>\n",
       "      <th>0</th>\n",
       "      <td>1</td>\n",
       "      <td>0</td>\n",
       "      <td>3</td>\n",
       "      <td>Braund, Mr. Owen Harris</td>\n",
       "      <td>male</td>\n",
       "      <td>22.0</td>\n",
       "      <td>1</td>\n",
       "      <td>0</td>\n",
       "      <td>A/5 21171</td>\n",
       "      <td>7.2500</td>\n",
       "      <td>NaN</td>\n",
       "      <td>S</td>\n",
       "    </tr>\n",
       "    <tr>\n",
       "      <th>1</th>\n",
       "      <td>2</td>\n",
       "      <td>1</td>\n",
       "      <td>1</td>\n",
       "      <td>Cumings, Mrs. John Bradley (Florence Briggs Th...</td>\n",
       "      <td>female</td>\n",
       "      <td>38.0</td>\n",
       "      <td>1</td>\n",
       "      <td>0</td>\n",
       "      <td>PC 17599</td>\n",
       "      <td>71.2833</td>\n",
       "      <td>C85</td>\n",
       "      <td>C</td>\n",
       "    </tr>\n",
       "    <tr>\n",
       "      <th>2</th>\n",
       "      <td>3</td>\n",
       "      <td>1</td>\n",
       "      <td>3</td>\n",
       "      <td>Heikkinen, Miss. Laina</td>\n",
       "      <td>female</td>\n",
       "      <td>26.0</td>\n",
       "      <td>0</td>\n",
       "      <td>0</td>\n",
       "      <td>STON/O2. 3101282</td>\n",
       "      <td>7.9250</td>\n",
       "      <td>NaN</td>\n",
       "      <td>S</td>\n",
       "    </tr>\n",
       "    <tr>\n",
       "      <th>3</th>\n",
       "      <td>4</td>\n",
       "      <td>1</td>\n",
       "      <td>1</td>\n",
       "      <td>Futrelle, Mrs. Jacques Heath (Lily May Peel)</td>\n",
       "      <td>female</td>\n",
       "      <td>35.0</td>\n",
       "      <td>1</td>\n",
       "      <td>0</td>\n",
       "      <td>113803</td>\n",
       "      <td>53.1000</td>\n",
       "      <td>C123</td>\n",
       "      <td>S</td>\n",
       "    </tr>\n",
       "    <tr>\n",
       "      <th>4</th>\n",
       "      <td>5</td>\n",
       "      <td>0</td>\n",
       "      <td>3</td>\n",
       "      <td>Allen, Mr. William Henry</td>\n",
       "      <td>male</td>\n",
       "      <td>35.0</td>\n",
       "      <td>0</td>\n",
       "      <td>0</td>\n",
       "      <td>373450</td>\n",
       "      <td>8.0500</td>\n",
       "      <td>NaN</td>\n",
       "      <td>S</td>\n",
       "    </tr>\n",
       "  </tbody>\n",
       "</table>\n",
       "</div>"
      ],
      "text/plain": [
       "   PassengerId  Survived  Pclass  \\\n",
       "0            1         0       3   \n",
       "1            2         1       1   \n",
       "2            3         1       3   \n",
       "3            4         1       1   \n",
       "4            5         0       3   \n",
       "\n",
       "                                                Name     Sex   Age  SibSp  \\\n",
       "0                            Braund, Mr. Owen Harris    male  22.0      1   \n",
       "1  Cumings, Mrs. John Bradley (Florence Briggs Th...  female  38.0      1   \n",
       "2                             Heikkinen, Miss. Laina  female  26.0      0   \n",
       "3       Futrelle, Mrs. Jacques Heath (Lily May Peel)  female  35.0      1   \n",
       "4                           Allen, Mr. William Henry    male  35.0      0   \n",
       "\n",
       "   Parch            Ticket     Fare Cabin Embarked  \n",
       "0      0         A/5 21171   7.2500   NaN        S  \n",
       "1      0          PC 17599  71.2833   C85        C  \n",
       "2      0  STON/O2. 3101282   7.9250   NaN        S  \n",
       "3      0            113803  53.1000  C123        S  \n",
       "4      0            373450   8.0500   NaN        S  "
      ]
     },
     "execution_count": 49,
     "metadata": {},
     "output_type": "execute_result"
    }
   ],
   "source": [
    "trainx=pd.read_csv(\"./data/train.csv\")\n",
    "trainx.head()"
   ]
  },
  {
   "cell_type": "code",
   "execution_count": 50,
   "metadata": {},
   "outputs": [
    {
     "name": "stdout",
     "output_type": "stream",
     "text": [
      "(891, 12)\n"
     ]
    }
   ],
   "source": [
    "print(trainx.shape)"
   ]
  },
  {
   "cell_type": "markdown",
   "metadata": {},
   "source": [
    "# Paso 3. Preprocesamiento\n",
    "\n",
    "Convertir los datos a nominales u ordinales para implementar el algoritmo ID3. Por ejemplo, usando la edad podemos crear un atributo que diga si el pasajero era niño o adulto:"
   ]
  },
  {
   "cell_type": "code",
   "execution_count": 51,
   "metadata": {},
   "outputs": [
    {
     "data": {
      "text/plain": [
       "0    0.0\n",
       "1    0.0\n",
       "2    0.0\n",
       "3    0.0\n",
       "4    0.0\n",
       "Name: Child, dtype: float64"
      ]
     },
     "execution_count": 51,
     "metadata": {},
     "output_type": "execute_result"
    }
   ],
   "source": [
    "train = trainx.copy()\n",
    "train[\"Child\"] = float('NaN')\n",
    "\n",
    "# Assign 1 to passengers under 18, 0 to those 18 or older. Print the new column.\n",
    "train.loc[train[\"Age\"] < 18, \"Child\"] = 1\n",
    "train.loc[train[\"Age\"] >= 18, \"Child\"] = 0\n",
    "train[\"Child\"].head()"
   ]
  },
  {
   "cell_type": "markdown",
   "metadata": {},
   "source": [
    "Ahora que ya no necesitamos el atributo \"Age\", podemos removerlo del dataframe usando la función drop"
   ]
  },
  {
   "cell_type": "code",
   "execution_count": 52,
   "metadata": {},
   "outputs": [],
   "source": [
    "train = train.drop(['Age'], axis = 1)"
   ]
  },
  {
   "cell_type": "code",
   "execution_count": 53,
   "metadata": {},
   "outputs": [
    {
     "data": {
      "text/html": [
       "<div>\n",
       "<style scoped>\n",
       "    .dataframe tbody tr th:only-of-type {\n",
       "        vertical-align: middle;\n",
       "    }\n",
       "\n",
       "    .dataframe tbody tr th {\n",
       "        vertical-align: top;\n",
       "    }\n",
       "\n",
       "    .dataframe thead th {\n",
       "        text-align: right;\n",
       "    }\n",
       "</style>\n",
       "<table border=\"1\" class=\"dataframe\">\n",
       "  <thead>\n",
       "    <tr style=\"text-align: right;\">\n",
       "      <th></th>\n",
       "      <th>PassengerId</th>\n",
       "      <th>Survived</th>\n",
       "      <th>Pclass</th>\n",
       "      <th>Name</th>\n",
       "      <th>Sex</th>\n",
       "      <th>SibSp</th>\n",
       "      <th>Parch</th>\n",
       "      <th>Ticket</th>\n",
       "      <th>Fare</th>\n",
       "      <th>Cabin</th>\n",
       "      <th>Embarked</th>\n",
       "      <th>Child</th>\n",
       "    </tr>\n",
       "  </thead>\n",
       "  <tbody>\n",
       "    <tr>\n",
       "      <th>0</th>\n",
       "      <td>1</td>\n",
       "      <td>0</td>\n",
       "      <td>3</td>\n",
       "      <td>Braund, Mr. Owen Harris</td>\n",
       "      <td>male</td>\n",
       "      <td>1</td>\n",
       "      <td>0</td>\n",
       "      <td>A/5 21171</td>\n",
       "      <td>7.2500</td>\n",
       "      <td>NaN</td>\n",
       "      <td>S</td>\n",
       "      <td>0.0</td>\n",
       "    </tr>\n",
       "    <tr>\n",
       "      <th>1</th>\n",
       "      <td>2</td>\n",
       "      <td>1</td>\n",
       "      <td>1</td>\n",
       "      <td>Cumings, Mrs. John Bradley (Florence Briggs Th...</td>\n",
       "      <td>female</td>\n",
       "      <td>1</td>\n",
       "      <td>0</td>\n",
       "      <td>PC 17599</td>\n",
       "      <td>71.2833</td>\n",
       "      <td>C85</td>\n",
       "      <td>C</td>\n",
       "      <td>0.0</td>\n",
       "    </tr>\n",
       "    <tr>\n",
       "      <th>2</th>\n",
       "      <td>3</td>\n",
       "      <td>1</td>\n",
       "      <td>3</td>\n",
       "      <td>Heikkinen, Miss. Laina</td>\n",
       "      <td>female</td>\n",
       "      <td>0</td>\n",
       "      <td>0</td>\n",
       "      <td>STON/O2. 3101282</td>\n",
       "      <td>7.9250</td>\n",
       "      <td>NaN</td>\n",
       "      <td>S</td>\n",
       "      <td>0.0</td>\n",
       "    </tr>\n",
       "    <tr>\n",
       "      <th>3</th>\n",
       "      <td>4</td>\n",
       "      <td>1</td>\n",
       "      <td>1</td>\n",
       "      <td>Futrelle, Mrs. Jacques Heath (Lily May Peel)</td>\n",
       "      <td>female</td>\n",
       "      <td>1</td>\n",
       "      <td>0</td>\n",
       "      <td>113803</td>\n",
       "      <td>53.1000</td>\n",
       "      <td>C123</td>\n",
       "      <td>S</td>\n",
       "      <td>0.0</td>\n",
       "    </tr>\n",
       "    <tr>\n",
       "      <th>4</th>\n",
       "      <td>5</td>\n",
       "      <td>0</td>\n",
       "      <td>3</td>\n",
       "      <td>Allen, Mr. William Henry</td>\n",
       "      <td>male</td>\n",
       "      <td>0</td>\n",
       "      <td>0</td>\n",
       "      <td>373450</td>\n",
       "      <td>8.0500</td>\n",
       "      <td>NaN</td>\n",
       "      <td>S</td>\n",
       "      <td>0.0</td>\n",
       "    </tr>\n",
       "    <tr>\n",
       "      <th>5</th>\n",
       "      <td>6</td>\n",
       "      <td>0</td>\n",
       "      <td>3</td>\n",
       "      <td>Moran, Mr. James</td>\n",
       "      <td>male</td>\n",
       "      <td>0</td>\n",
       "      <td>0</td>\n",
       "      <td>330877</td>\n",
       "      <td>8.4583</td>\n",
       "      <td>NaN</td>\n",
       "      <td>Q</td>\n",
       "      <td>NaN</td>\n",
       "    </tr>\n",
       "    <tr>\n",
       "      <th>6</th>\n",
       "      <td>7</td>\n",
       "      <td>0</td>\n",
       "      <td>1</td>\n",
       "      <td>McCarthy, Mr. Timothy J</td>\n",
       "      <td>male</td>\n",
       "      <td>0</td>\n",
       "      <td>0</td>\n",
       "      <td>17463</td>\n",
       "      <td>51.8625</td>\n",
       "      <td>E46</td>\n",
       "      <td>S</td>\n",
       "      <td>0.0</td>\n",
       "    </tr>\n",
       "    <tr>\n",
       "      <th>7</th>\n",
       "      <td>8</td>\n",
       "      <td>0</td>\n",
       "      <td>3</td>\n",
       "      <td>Palsson, Master. Gosta Leonard</td>\n",
       "      <td>male</td>\n",
       "      <td>3</td>\n",
       "      <td>1</td>\n",
       "      <td>349909</td>\n",
       "      <td>21.0750</td>\n",
       "      <td>NaN</td>\n",
       "      <td>S</td>\n",
       "      <td>1.0</td>\n",
       "    </tr>\n",
       "    <tr>\n",
       "      <th>8</th>\n",
       "      <td>9</td>\n",
       "      <td>1</td>\n",
       "      <td>3</td>\n",
       "      <td>Johnson, Mrs. Oscar W (Elisabeth Vilhelmina Berg)</td>\n",
       "      <td>female</td>\n",
       "      <td>0</td>\n",
       "      <td>2</td>\n",
       "      <td>347742</td>\n",
       "      <td>11.1333</td>\n",
       "      <td>NaN</td>\n",
       "      <td>S</td>\n",
       "      <td>0.0</td>\n",
       "    </tr>\n",
       "    <tr>\n",
       "      <th>9</th>\n",
       "      <td>10</td>\n",
       "      <td>1</td>\n",
       "      <td>2</td>\n",
       "      <td>Nasser, Mrs. Nicholas (Adele Achem)</td>\n",
       "      <td>female</td>\n",
       "      <td>1</td>\n",
       "      <td>0</td>\n",
       "      <td>237736</td>\n",
       "      <td>30.0708</td>\n",
       "      <td>NaN</td>\n",
       "      <td>C</td>\n",
       "      <td>1.0</td>\n",
       "    </tr>\n",
       "  </tbody>\n",
       "</table>\n",
       "</div>"
      ],
      "text/plain": [
       "   PassengerId  Survived  Pclass  \\\n",
       "0            1         0       3   \n",
       "1            2         1       1   \n",
       "2            3         1       3   \n",
       "3            4         1       1   \n",
       "4            5         0       3   \n",
       "5            6         0       3   \n",
       "6            7         0       1   \n",
       "7            8         0       3   \n",
       "8            9         1       3   \n",
       "9           10         1       2   \n",
       "\n",
       "                                                Name     Sex  SibSp  Parch  \\\n",
       "0                            Braund, Mr. Owen Harris    male      1      0   \n",
       "1  Cumings, Mrs. John Bradley (Florence Briggs Th...  female      1      0   \n",
       "2                             Heikkinen, Miss. Laina  female      0      0   \n",
       "3       Futrelle, Mrs. Jacques Heath (Lily May Peel)  female      1      0   \n",
       "4                           Allen, Mr. William Henry    male      0      0   \n",
       "5                                   Moran, Mr. James    male      0      0   \n",
       "6                            McCarthy, Mr. Timothy J    male      0      0   \n",
       "7                     Palsson, Master. Gosta Leonard    male      3      1   \n",
       "8  Johnson, Mrs. Oscar W (Elisabeth Vilhelmina Berg)  female      0      2   \n",
       "9                Nasser, Mrs. Nicholas (Adele Achem)  female      1      0   \n",
       "\n",
       "             Ticket     Fare Cabin Embarked  Child  \n",
       "0         A/5 21171   7.2500   NaN        S    0.0  \n",
       "1          PC 17599  71.2833   C85        C    0.0  \n",
       "2  STON/O2. 3101282   7.9250   NaN        S    0.0  \n",
       "3            113803  53.1000  C123        S    0.0  \n",
       "4            373450   8.0500   NaN        S    0.0  \n",
       "5            330877   8.4583   NaN        Q    NaN  \n",
       "6             17463  51.8625   E46        S    0.0  \n",
       "7            349909  21.0750   NaN        S    1.0  \n",
       "8            347742  11.1333   NaN        S    0.0  \n",
       "9            237736  30.0708   NaN        C    1.0  "
      ]
     },
     "execution_count": 53,
     "metadata": {},
     "output_type": "execute_result"
    }
   ],
   "source": [
    "train.head(10)"
   ]
  },
  {
   "cell_type": "markdown",
   "metadata": {},
   "source": [
    "**Tarea** Convierta el atributo Fare en un atributo ordinal de 3 niveles. \n",
    "\n",
    "Esta tarea no es tan trivial, ya que el atributo no se distribuye uniformemente en todo el rango de valores. Hay muchos valores pequeños y unos cuantos valores muy grandes. Por tanto es conveniente usar una escala logarítmica para antes de realizar la discretización. Luego, divida el intervalo comprendido entre el menor y el mayor valor numérico y divídalo en 3. Luego asigne a cada ejemplo un valor 0, 1 or 2 dependiendo del rango en el cual se encuentre. Luego elimine el atributo original Fare.\n",
    "\n",
    "**Pista**\n",
    "* Use las funciones `max()` y `min()` de de los arreglos de pandas.\n",
    "* También será necesario sumar 1 a los valores originales antes de calcular el logaritmo, para evitar calcular el log(0)\n",
    "* La operación de discretización se puede realizar con una simple operación algebráica. \n",
    "* Reasigne el resultado de la operación sobre la antigüa columna 'Fare'"
   ]
  },
  {
   "cell_type": "code",
   "execution_count": 54,
   "metadata": {},
   "outputs": [
    {
     "name": "stdout",
     "output_type": "stream",
     "text": [
      "0      0.0\n",
      "1      1.0\n",
      "2      0.0\n",
      "3      1.0\n",
      "4      0.0\n",
      "      ... \n",
      "886    0.0\n",
      "887    1.0\n",
      "888    1.0\n",
      "889    1.0\n",
      "890    0.0\n",
      "Name: Fare, Length: 891, dtype: float64\n"
     ]
    }
   ],
   "source": [
    "# START CODE HERE\n",
    "fare = np.log(train.Fare + 1)\n",
    "minFare = fare.min()\n",
    "maxFare = fare.max()\n",
    "newFare = np.floor(2 * (fare - minFare) / (maxFare - minFare))\n",
    "\n",
    "train['Fare'] = newFare\n",
    "# START CODE HERE\n",
    "print(train['Fare'])"
   ]
  },
  {
   "cell_type": "markdown",
   "metadata": {},
   "source": [
    "**Valor esperado**\n",
    "```CPP\n",
    "0      0.0\n",
    "1      1.0\n",
    "2      0.0\n",
    "3      1.0\n",
    "4      0.0\n",
    "      ... \n",
    "886    0.0\n",
    "887    1.0\n",
    "888    1.0\n",
    "889    1.0\n",
    "890    0.0\n",
    "Name: Fare, Length: 891, dtype: float64\n",
    "```"
   ]
  },
  {
   "cell_type": "markdown",
   "metadata": {},
   "source": [
    "# Paso 4. Selecciones los atributos que usará para el entrenamiento\n",
    "\n",
    "Usando las operaciones de slicing, separe en otro data frame, solo los atributos que usará en el problema de entrenamiento. Mantenga el atributo **PassengerId** aunque este no debe usado como atributo descriptivo.\n",
    "\n",
    "En este paso es buena idea, crear un nuevo dataframe, que contendrá la copia de los valores que se necesitan del dataframe original. Para eso puede usar la línea que muestra abajo. attributes, será una lista con los nombres de los atributos a mantener"
   ]
  },
  {
   "cell_type": "code",
   "execution_count": 57,
   "metadata": {},
   "outputs": [],
   "source": [
    "# START CODE HERE\n",
    "attributes = ['PassengerId', 'Survived', 'Pclass', 'Sex', 'SibSp', 'Parch', 'Fare', 'Embarked', 'Child']\n",
    "# START CODE HERE\n",
    "train2 = train.loc[:, attributes].copy()"
   ]
  },
  {
   "cell_type": "markdown",
   "metadata": {},
   "source": [
    "# Paso 5. Elimine todos los ejemplo con valores nulos, inválidos o NaN\n",
    "\n",
    "Antes de pasar al siguiente paso, debe asegurarse que todos los valores de su tabla continene valores válidos. Aunque hay varias formas de resolver este problema, como por ejemplo completando los faltantes, para este primer ejercicio simplemente elimine los valores problemáticos. \n",
    "\n",
    "Para esto use la función dropna() de pandas: https://pandas.pydata.org/pandas-docs/stable/reference/api/pandas.DataFrame.dropna.html\n",
    "\n",
    "**Pista**\n",
    "\n",
    "No olvide reasignar en train2 la salida de la función dropna()"
   ]
  },
  {
   "cell_type": "code",
   "execution_count": 60,
   "metadata": {},
   "outputs": [
    {
     "name": "stdout",
     "output_type": "stream",
     "text": [
      "(891, 9)\n",
      "(712, 9)\n"
     ]
    }
   ],
   "source": [
    "print(train2.shape)\n",
    "# START CODE HERE\n",
    "train2 = train2.dropna()\n",
    "# START CODE HERE\n",
    "print(train2.shape)"
   ]
  },
  {
   "cell_type": "markdown",
   "metadata": {},
   "source": [
    "**Valor esperado**\n",
    "```\n",
    "(891, 9)\n",
    "(712, 9)\n",
    "```"
   ]
  },
  {
   "cell_type": "markdown",
   "metadata": {},
   "source": [
    "# Paso 6. Separe los datos en X y L\n",
    "\n",
    "Haga una copia de los ejemplos solo con las columnas categóricas(ordinales y nominales) en un dataframe llamado **X**. Este dataframe no tendrá el *PassangerId* ni el nombre ni ningún otro atributo que no se vaya a usar para construir el árbol de inducción.\n",
    "En otro dataframe **L**, de una sola columna, copie las etiquetas de los ejemplos. Es decir el atributo **Survived**"
   ]
  },
  {
   "cell_type": "code",
   "execution_count": 61,
   "metadata": {},
   "outputs": [
    {
     "name": "stdout",
     "output_type": "stream",
     "text": [
      "(712, 7)\n",
      "(712,)\n"
     ]
    }
   ],
   "source": [
    "# START CODE HERE\n",
    "X = train2.loc[:,['Pclass', 'Sex', 'SibSp', 'Parch', 'Fare', 'Embarked', 'Child']].copy()\n",
    "L = train2.loc[:, 'Survived'].copy()\n",
    "# START CODE HERE\n",
    "print(X.shape)\n",
    "print(L.shape)"
   ]
  },
  {
   "cell_type": "markdown",
   "metadata": {},
   "source": [
    "**Valor esperado**\n",
    "\n",
    "```\n",
    "(712, 7)\n",
    "(712,)\n",
    "```"
   ]
  },
  {
   "cell_type": "markdown",
   "metadata": {},
   "source": [
    "# Paso 7. Ganancia de información\n",
    "\n",
    "Implemente la función Gain(data, column)"
   ]
  },
  {
   "cell_type": "code",
   "execution_count": 156,
   "metadata": {},
   "outputs": [],
   "source": [
    "def entropy(values, labels):\n",
    "    categories = np.unique(values)\n",
    "    n_samples = len(values)\n",
    "    p = np.sum(labels == 1)\n",
    "    n = n_samples - p\n",
    "    e = 0 # Store here the entropy\n",
    "    \n",
    "    for i in categories:\n",
    "    # START CODE HERE\n",
    "        labels_i = labels[values == i]\n",
    "        pi = np.sum(labels_i == 1)\n",
    "        ni = np.sum(labels_i == 0)\n",
    "        e += (pi + ni) / (p + n) * info(pi, ni)\n",
    "    # END CODE HERE\n",
    "    return e\n",
    "\n",
    "def info(p, n):\n",
    "    if p * n == 0:\n",
    "        return 0\n",
    "    # START CODE HERE\n",
    "    return - p / (p + n) * np.log2( p / (p + n)) - n / (p + n) * np.log2( n / (p + n))\n",
    "    # END CODE HERE\n",
    "    return 0\n",
    "\n",
    "def gain(X, L, col_name):\n",
    "    n_samples = len(X)\n",
    "    p = np.sum(L == 1)\n",
    "    n = n_samples - p\n",
    "    # START CODE HERE\n",
    "    return info(p, n) - entropy(X.loc[:, col_name], L)\n",
    "    # END CODE HERE\n"
   ]
  },
  {
   "cell_type": "markdown",
   "metadata": {},
   "source": [
    "Si las implementaciones son correctas las siguientes celdas deben darle los valores esperados"
   ]
  },
  {
   "cell_type": "code",
   "execution_count": 157,
   "metadata": {},
   "outputs": [
    {
     "data": {
      "text/plain": [
       "0.9182958340544896"
      ]
     },
     "execution_count": 157,
     "metadata": {},
     "output_type": "execute_result"
    }
   ],
   "source": [
    "info(5, 10)"
   ]
  },
  {
   "cell_type": "markdown",
   "metadata": {},
   "source": [
    "**Valor esperado**\n",
    "\n",
    "0.9182958340544896"
   ]
  },
  {
   "cell_type": "code",
   "execution_count": 158,
   "metadata": {},
   "outputs": [
    {
     "data": {
      "text/plain": [
       "0.9633563187521076"
      ]
     },
     "execution_count": 158,
     "metadata": {},
     "output_type": "execute_result"
    }
   ],
   "source": [
    "entropy(train2.loc[:,'Child'], L)"
   ]
  },
  {
   "cell_type": "markdown",
   "metadata": {},
   "source": [
    "**Valor esperado**\n",
    "\n",
    "0.036153948204607045"
   ]
  },
  {
   "cell_type": "code",
   "execution_count": 159,
   "metadata": {},
   "outputs": [
    {
     "name": "stdout",
     "output_type": "stream",
     "text": [
      "Pclass 0.09400998456880605\n",
      "Sex 0.21410831283572307\n",
      "SibSp 0.024868993114017135\n",
      "Parch 0.030682011788098373\n",
      "Fare 0.056844573680660315\n",
      "Embarked 0.027858206925992057\n",
      "Child 0.010162683632573333\n"
     ]
    }
   ],
   "source": [
    "print(f\"Pclass {gain(X, L, 'Pclass')}\")\n",
    "print(f\"Sex {gain(X, L, 'Sex')}\")\n",
    "print(f\"SibSp {gain(X, L, 'SibSp')}\")\n",
    "print(f\"Parch {gain(X, L, 'Parch')}\")\n",
    "print(f\"Fare {gain(X, L, 'Fare')}\")\n",
    "print(f\"Embarked {gain(X, L, 'Embarked')}\")\n",
    "print(f\"Child {gain(X, L, 'Child')}\")"
   ]
  },
  {
   "cell_type": "markdown",
   "metadata": {},
   "source": [
    "**Valor esperado**\n",
    "```\n",
    "Pclass 0.09400998456880605\n",
    "Sex 0.21410831283572307\n",
    "SibSp 0.024868993114017135\n",
    "Parch 0.030682011788098373\n",
    "Fare 0.056844573680660315\n",
    "Embarked 0.027858206925992057\n",
    "Child 0.010162683632573333\n",
    "```"
   ]
  },
  {
   "cell_type": "markdown",
   "metadata": {},
   "source": [
    "***Pregunta: Según estos valores ¿Cúal es el atributo que debería usarse como regla de decisión en el primer nivel del árbol?***"
   ]
  },
  {
   "cell_type": "markdown",
   "metadata": {},
   "source": [
    "# Paso 8. J45\n",
    "\n",
    "Ahora implemente el algoritmo de construcción del árbol de inducción J45, que se describe en las diapositivas de la clase pasada"
   ]
  },
  {
   "cell_type": "code",
   "execution_count": 194,
   "metadata": {},
   "outputs": [],
   "source": [
    "def j45level(X, L, nMin=20, minRatio=0.8, level = 0):\n",
    "    '''\n",
    "    Entradas:\n",
    "        X: Conjunto de datos\n",
    "        L: Etiquetas\n",
    "    Salidas:\n",
    "        arbol\n",
    "    '''\n",
    "    # Un truco para agregar tabulados dependiendo el nivel\n",
    "    tabs = \"\".join((['    '] * level))\n",
    "    attributes = X.columns\n",
    "    \n",
    "    # Contamos cuantos positivos y cuantos negativos tenemos\n",
    "    pos_neg = (np.sum(L == 1), np.sum(L == 0))\n",
    "    \n",
    "    # Calcule el ratio entro la clase menos frecuente y la clase mas frecuente\n",
    "    # START CODE HERE \n",
    "    currentRatio = np.min(pos_neg) / np.max(pos_neg)\n",
    "    # END CODE HERE \n",
    "\n",
    "    # Esto es lo que hacemos para saber que llegamos a una hoja\n",
    "    if len(attributes) == 0 or len(X) <= nMin or currentRatio < minRatio:\n",
    "        if pos_neg[0] >= pos_neg[1]:\n",
    "            print(f\"{tabs}Positive {pos_neg}\")\n",
    "        else:\n",
    "            print(f\"{tabs}Negative {pos_neg}\")\n",
    "                \n",
    "        return pos_neg\n",
    "    \n",
    "    gains = dict()\n",
    "    for att in attributes:\n",
    "        # START CODE HERE \n",
    "        gains[att] = gain(X, L, att)\n",
    "        # END CODE HERE \n",
    "        \n",
    "    sorted_x = sorted(gains.items(), key=lambda kv: kv[1], reverse=True)\n",
    "    \n",
    "    #Imprime el mejor atributo con su correspondiente ganancia de información\n",
    "    print(f\"{tabs}Best: {sorted_x[0]}\")\n",
    "    \n",
    "    key = sorted_x[0][0]\n",
    "    # Ahora partimos el conjunto según los valores del mejor atributo\n",
    "    categories = np.unique(X.loc[:, key])\n",
    "    for cat in categories:\n",
    "        print(f\"{tabs}  {cat}\")\n",
    "        # START CODE HERE \n",
    "        lines = X[key] == cat\n",
    "        j45level(X.drop(key, axis=1).loc[lines, :], L.loc[lines], nMin, minRatio, level +  1)\n",
    "        # END CODE HERE \n",
    "        \n",
    "    print(f\"{tabs}end of {key}\")\n",
    "  \n"
   ]
  },
  {
   "cell_type": "code",
   "execution_count": 195,
   "metadata": {},
   "outputs": [
    {
     "name": "stdout",
     "output_type": "stream",
     "text": [
      "Best: ('Sex', 0.21410831283572307)\n",
      "  female\n",
      "    Best: ('Pclass', 0.2267010508317432)\n",
      "      1\n",
      "        Positive (80, 3)\n",
      "      2\n",
      "        Positive (68, 6)\n",
      "      3\n",
      "        Best: ('Fare', 0.07516755751248805)\n",
      "          0.0\n",
      "            Positive (44, 38)\n",
      "          1.0\n",
      "            Negative (3, 17)\n",
      "        end of Fare\n",
      "    end of Pclass\n",
      "  male\n",
      "    Best: ('Pclass', 0.04147079049162472)\n",
      "      1\n",
      "        Best: ('Fare', 0.055316355424823827)\n",
      "          0.0\n",
      "            Negative (0, 4)\n",
      "          1.0\n",
      "            Negative (38, 57)\n",
      "          2.0\n",
      "            Positive (2, 0)\n",
      "        end of Fare\n",
      "      2\n",
      "        Negative (15, 84)\n",
      "      3\n",
      "        Negative (38, 215)\n",
      "    end of Pclass\n",
      "end of Sex\n"
     ]
    }
   ],
   "source": [
    "j45level(X, L, 100, 0.2)"
   ]
  },
  {
   "cell_type": "markdown",
   "metadata": {},
   "source": [
    "**Salida esperada**\n",
    "```js\n",
    "Best: ('Sex', 0.21410831283572307)\n",
    "  female\n",
    "    Best: ('Pclass', 0.2267010508317432)\n",
    "      1\n",
    "        Positive (80, 3)\n",
    "      2\n",
    "        Positive (68, 6)\n",
    "      3\n",
    "        Best: ('Fare', 0.07516755751248805)\n",
    "          0.0\n",
    "            Positive (44, 38)\n",
    "          1.0\n",
    "            Negative (3, 17)\n",
    "        end of Fare\n",
    "    end of Pclass\n",
    "  male\n",
    "    Best: ('Pclass', 0.04147079049162472)\n",
    "      1\n",
    "        Best: ('Fare', 0.055316355424823827)\n",
    "          0.0\n",
    "            Negative (0, 4)\n",
    "          1.0\n",
    "            Negative (38, 57)\n",
    "          2.0\n",
    "            Positive (2, 0)\n",
    "        end of Fare\n",
    "      2\n",
    "        Negative (15, 84)\n",
    "      3\n",
    "        Negative (38, 215)\n",
    "    end of Pclass\n",
    "end of Sex\n",
    "```"
   ]
  },
  {
   "cell_type": "markdown",
   "metadata": {},
   "source": [
    "**Felicitaciones**\n",
    "\n",
    "Has completado de manera correcta la implementación de unas de las variaciones de los árboles de inducción. Por mantener el código simple, este ejemplo solo imprime el árbol a medida que lo contruye. Modifique el código para almacenar el resultado en un árbol de verdad"
   ]
  },
  {
   "cell_type": "code",
   "execution_count": null,
   "metadata": {},
   "outputs": [],
   "source": []
  }
 ],
 "metadata": {
  "kernelspec": {
   "display_name": "Python 3",
   "language": "python",
   "name": "python3"
  },
  "language_info": {
   "codemirror_mode": {
    "name": "ipython",
    "version": 3
   },
   "file_extension": ".py",
   "mimetype": "text/x-python",
   "name": "python",
   "nbconvert_exporter": "python",
   "pygments_lexer": "ipython3",
   "version": "3.7.3"
  }
 },
 "nbformat": 4,
 "nbformat_minor": 4
}
